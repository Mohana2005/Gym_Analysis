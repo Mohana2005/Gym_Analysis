{
 "cells": [
  {
   "cell_type": "code",
   "execution_count": 1,
   "id": "277a1a10-8e0f-4a3a-8435-6f2bc0901a4a",
   "metadata": {},
   "outputs": [],
   "source": [
    "import pandas as pd\n",
    "import matplotlib.pyplot as plt\n",
    "import numpy as np\n",
    "import seaborn as sns"
   ]
  },
  {
   "cell_type": "code",
   "execution_count": 2,
   "id": "5e76d5b1-243c-4d5b-aade-31a8242c8c3d",
   "metadata": {},
   "outputs": [],
   "source": [
    "df=pd.read_csv('gym_members_exercise_tracking.csv')"
   ]
  },
  {
   "cell_type": "code",
   "execution_count": 3,
   "id": "2b480fc7-59a3-4faf-acd2-0a071756b11f",
   "metadata": {},
   "outputs": [
    {
     "data": {
      "text/html": [
       "<div>\n",
       "<style scoped>\n",
       "    .dataframe tbody tr th:only-of-type {\n",
       "        vertical-align: middle;\n",
       "    }\n",
       "\n",
       "    .dataframe tbody tr th {\n",
       "        vertical-align: top;\n",
       "    }\n",
       "\n",
       "    .dataframe thead th {\n",
       "        text-align: right;\n",
       "    }\n",
       "</style>\n",
       "<table border=\"1\" class=\"dataframe\">\n",
       "  <thead>\n",
       "    <tr style=\"text-align: right;\">\n",
       "      <th></th>\n",
       "      <th>Age</th>\n",
       "      <th>Gender</th>\n",
       "      <th>Weight (kg)</th>\n",
       "      <th>Height (m)</th>\n",
       "      <th>Max_BPM</th>\n",
       "      <th>Avg_BPM</th>\n",
       "      <th>Resting_BPM</th>\n",
       "      <th>Session_Duration (hours)</th>\n",
       "      <th>Calories_Burned</th>\n",
       "      <th>Workout_Type</th>\n",
       "      <th>Fat_Percentage</th>\n",
       "      <th>Water_Intake (liters)</th>\n",
       "      <th>Workout_Frequency (days/week)</th>\n",
       "      <th>Experience_Level</th>\n",
       "      <th>BMI</th>\n",
       "    </tr>\n",
       "  </thead>\n",
       "  <tbody>\n",
       "    <tr>\n",
       "      <th>0</th>\n",
       "      <td>56</td>\n",
       "      <td>Male</td>\n",
       "      <td>88.3</td>\n",
       "      <td>1.71</td>\n",
       "      <td>180</td>\n",
       "      <td>157</td>\n",
       "      <td>60</td>\n",
       "      <td>1.69</td>\n",
       "      <td>1313.0</td>\n",
       "      <td>Yoga</td>\n",
       "      <td>12.6</td>\n",
       "      <td>3.5</td>\n",
       "      <td>4</td>\n",
       "      <td>3</td>\n",
       "      <td>30.20</td>\n",
       "    </tr>\n",
       "    <tr>\n",
       "      <th>1</th>\n",
       "      <td>46</td>\n",
       "      <td>Female</td>\n",
       "      <td>74.9</td>\n",
       "      <td>1.53</td>\n",
       "      <td>179</td>\n",
       "      <td>151</td>\n",
       "      <td>66</td>\n",
       "      <td>1.30</td>\n",
       "      <td>883.0</td>\n",
       "      <td>HIIT</td>\n",
       "      <td>33.9</td>\n",
       "      <td>2.1</td>\n",
       "      <td>4</td>\n",
       "      <td>2</td>\n",
       "      <td>32.00</td>\n",
       "    </tr>\n",
       "    <tr>\n",
       "      <th>2</th>\n",
       "      <td>32</td>\n",
       "      <td>Female</td>\n",
       "      <td>68.1</td>\n",
       "      <td>1.66</td>\n",
       "      <td>167</td>\n",
       "      <td>122</td>\n",
       "      <td>54</td>\n",
       "      <td>1.11</td>\n",
       "      <td>677.0</td>\n",
       "      <td>Cardio</td>\n",
       "      <td>33.4</td>\n",
       "      <td>2.3</td>\n",
       "      <td>4</td>\n",
       "      <td>2</td>\n",
       "      <td>24.71</td>\n",
       "    </tr>\n",
       "    <tr>\n",
       "      <th>3</th>\n",
       "      <td>25</td>\n",
       "      <td>Male</td>\n",
       "      <td>53.2</td>\n",
       "      <td>1.70</td>\n",
       "      <td>190</td>\n",
       "      <td>164</td>\n",
       "      <td>56</td>\n",
       "      <td>0.59</td>\n",
       "      <td>532.0</td>\n",
       "      <td>Strength</td>\n",
       "      <td>28.8</td>\n",
       "      <td>2.1</td>\n",
       "      <td>3</td>\n",
       "      <td>1</td>\n",
       "      <td>18.41</td>\n",
       "    </tr>\n",
       "    <tr>\n",
       "      <th>4</th>\n",
       "      <td>38</td>\n",
       "      <td>Male</td>\n",
       "      <td>46.1</td>\n",
       "      <td>1.79</td>\n",
       "      <td>188</td>\n",
       "      <td>158</td>\n",
       "      <td>68</td>\n",
       "      <td>0.64</td>\n",
       "      <td>556.0</td>\n",
       "      <td>Strength</td>\n",
       "      <td>29.2</td>\n",
       "      <td>2.8</td>\n",
       "      <td>3</td>\n",
       "      <td>1</td>\n",
       "      <td>14.39</td>\n",
       "    </tr>\n",
       "  </tbody>\n",
       "</table>\n",
       "</div>"
      ],
      "text/plain": [
       "   Age  Gender  Weight (kg)  Height (m)  Max_BPM  Avg_BPM  Resting_BPM  \\\n",
       "0   56    Male         88.3        1.71      180      157           60   \n",
       "1   46  Female         74.9        1.53      179      151           66   \n",
       "2   32  Female         68.1        1.66      167      122           54   \n",
       "3   25    Male         53.2        1.70      190      164           56   \n",
       "4   38    Male         46.1        1.79      188      158           68   \n",
       "\n",
       "   Session_Duration (hours)  Calories_Burned Workout_Type  Fat_Percentage  \\\n",
       "0                      1.69           1313.0         Yoga            12.6   \n",
       "1                      1.30            883.0         HIIT            33.9   \n",
       "2                      1.11            677.0       Cardio            33.4   \n",
       "3                      0.59            532.0     Strength            28.8   \n",
       "4                      0.64            556.0     Strength            29.2   \n",
       "\n",
       "   Water_Intake (liters)  Workout_Frequency (days/week)  Experience_Level  \\\n",
       "0                    3.5                              4                 3   \n",
       "1                    2.1                              4                 2   \n",
       "2                    2.3                              4                 2   \n",
       "3                    2.1                              3                 1   \n",
       "4                    2.8                              3                 1   \n",
       "\n",
       "     BMI  \n",
       "0  30.20  \n",
       "1  32.00  \n",
       "2  24.71  \n",
       "3  18.41  \n",
       "4  14.39  "
      ]
     },
     "execution_count": 3,
     "metadata": {},
     "output_type": "execute_result"
    }
   ],
   "source": [
    "df.head()"
   ]
  },
  {
   "cell_type": "code",
   "execution_count": 4,
   "id": "84aa1d1e-7826-405b-978a-83672909f580",
   "metadata": {},
   "outputs": [
    {
     "data": {
      "text/plain": [
       "Age                              0\n",
       "Gender                           0\n",
       "Weight (kg)                      0\n",
       "Height (m)                       0\n",
       "Max_BPM                          0\n",
       "Avg_BPM                          0\n",
       "Resting_BPM                      0\n",
       "Session_Duration (hours)         0\n",
       "Calories_Burned                  0\n",
       "Workout_Type                     0\n",
       "Fat_Percentage                   0\n",
       "Water_Intake (liters)            0\n",
       "Workout_Frequency (days/week)    0\n",
       "Experience_Level                 0\n",
       "BMI                              0\n",
       "dtype: int64"
      ]
     },
     "execution_count": 4,
     "metadata": {},
     "output_type": "execute_result"
    }
   ],
   "source": [
    "df.isnull().sum()"
   ]
  },
  {
   "cell_type": "code",
   "execution_count": 5,
   "id": "bcce472c-befa-43ba-9c90-fb7d17bfa7a7",
   "metadata": {},
   "outputs": [
    {
     "data": {
      "text/plain": [
       "Gender\n",
       "Female    462\n",
       "Male      511\n",
       "dtype: int64"
      ]
     },
     "execution_count": 5,
     "metadata": {},
     "output_type": "execute_result"
    }
   ],
   "source": [
    "df.groupby(['Gender']).size()\n"
   ]
  },
  {
   "cell_type": "code",
   "execution_count": 6,
   "id": "82e293ad-f07c-4ef2-9509-3bb3636c787b",
   "metadata": {},
   "outputs": [],
   "source": [
    "df_male = df[df['Gender'] != 'Female']"
   ]
  },
  {
   "cell_type": "code",
   "execution_count": 7,
   "id": "12c6e575-2be9-495a-969a-0496812e6bb3",
   "metadata": {
    "scrolled": true
   },
   "outputs": [],
   "source": [
    "df_female=df[df['Gender']=='Female']"
   ]
  },
  {
   "cell_type": "code",
   "execution_count": 8,
   "id": "bf8d017a-9801-4bdb-b1c7-05a716f3ebc7",
   "metadata": {},
   "outputs": [
    {
     "data": {
      "text/plain": [
       "MultiIndex([(  'Cardio', 'Female'),\n",
       "            (  'Cardio',   'Male'),\n",
       "            (    'HIIT', 'Female'),\n",
       "            (    'HIIT',   'Male'),\n",
       "            ('Strength', 'Female'),\n",
       "            ('Strength',   'Male'),\n",
       "            (    'Yoga', 'Female'),\n",
       "            (    'Yoga',   'Male')],\n",
       "           names=['Workout_Type', 'Gender'])"
      ]
     },
     "execution_count": 8,
     "metadata": {},
     "output_type": "execute_result"
    }
   ],
   "source": [
    "workout=df.groupby(['Workout_Type','Gender']).size()\n",
    "workout.index"
   ]
  },
  {
   "cell_type": "code",
   "execution_count": 9,
   "id": "d44cd988-9a24-4d04-a713-693c7b5a4cb5",
   "metadata": {
    "scrolled": true
   },
   "outputs": [
    {
     "data": {
      "text/plain": [
       "([<matplotlib.patches.Wedge at 0x2111064ee40>,\n",
       "  <matplotlib.patches.Wedge at 0x2111064dd60>,\n",
       "  <matplotlib.patches.Wedge at 0x2111064fbf0>,\n",
       "  <matplotlib.patches.Wedge at 0x211106802c0>,\n",
       "  <matplotlib.patches.Wedge at 0x2111064fe30>,\n",
       "  <matplotlib.patches.Wedge at 0x21110680f50>,\n",
       "  <matplotlib.patches.Wedge at 0x211106815b0>,\n",
       "  <matplotlib.patches.Wedge at 0x21110681be0>],\n",
       " [Text(1.0102199936336014, 0.43526493594468024, \"('Cardio', 'Female')\"),\n",
       "  Text(0.36749445740115205, 1.0367969057532112, \"('Cardio', 'Male')\"),\n",
       "  Text(-0.44989643629551485, 1.0037894184581724, \"('HIIT', 'Female')\"),\n",
       "  Text(-0.9971469307238839, 0.4644329860678913, \"('HIIT', 'Male')\"),\n",
       "  Text(-1.0408835778186274, -0.35575465903835163, \"('Strength', 'Female')\"),\n",
       "  Text(-0.4368953206711429, -1.0095159626155792, \"('Strength', 'Male')\"),\n",
       "  Text(0.39746318769237077, -1.0256817315470814, \"('Yoga', 'Female')\"),\n",
       "  Text(1.0001251992989058, -0.45798426362411626, \"('Yoga', 'Male')\")],\n",
       " [Text(0.5510290874365098, 0.23741723778800738, '12.95%'),\n",
       "  Text(0.2004515222188102, 0.5655255849562969, '13.26%'),\n",
       "  Text(-0.2453980561611899, 0.5475215009771849, '11.00%'),\n",
       "  Text(-0.5438983258493911, 0.2533270833097589, '11.72%'),\n",
       "  Text(-0.5677546788101603, -0.19404799583910087, '12.64%'),\n",
       "  Text(-0.2383065385478961, -0.5506450705175886, '13.87%'),\n",
       "  Text(0.21679810237765676, -0.5594627626620444, '10.89%'),\n",
       "  Text(0.5455228359812213, -0.249809598340427, '13.67%')])"
      ]
     },
     "execution_count": 9,
     "metadata": {},
     "output_type": "execute_result"
    },
    {
     "data": {
      "image/png": "[encoded data removed]",
      "text/plain": [
       "<Figure size 640x480 with 1 Axes>"
      ]
     },
     "metadata": {},
     "output_type": "display_data"
    }
   ],
   "source": [
    "plt.pie(workout.values,labels=workout.index,autopct='%1.2f%%')"
   ]
  },
  {
   "cell_type": "markdown",
   "id": "fdfad83d-289f-48dc-8115-f93b072fa050",
   "metadata": {},
   "source": [
    "Observation: \n",
    "Nearly 52 percent of people either have cardio or strength as their workout routine"
   ]
  },
  {
   "cell_type": "code",
   "execution_count": 11,
   "id": "59a75c56-c06f-46c0-8358-b1b26d985684",
   "metadata": {},
   "outputs": [
    {
     "data": {
      "text/plain": [
       "Workout_Type\n",
       "Cardio      255\n",
       "HIIT        221\n",
       "Strength    258\n",
       "Yoga        239\n",
       "dtype: int64"
      ]
     },
     "execution_count": 11,
     "metadata": {},
     "output_type": "execute_result"
    }
   ],
   "source": [
    "df.groupby(['Workout_Type']).size()"
   ]
  },
  {
   "cell_type": "code",
   "execution_count": 12,
   "id": "853204d6-c67e-4439-9420-a291f1ec48d0",
   "metadata": {},
   "outputs": [
    {
     "data": {
      "text/plain": [
       "719.3186612290815"
      ]
     },
     "execution_count": 12,
     "metadata": {},
     "output_type": "execute_result"
    }
   ],
   "source": [
    "c1=df[df['Workout_Type'] == 'HIIT']['Calories_Burned'].mean()\n",
    "d1=df[df['Workout_Type'] == 'HIIT']['Session_Duration (hours)'].mean()\n",
    "c1/d1"
   ]
  },
  {
   "cell_type": "code",
   "execution_count": 13,
   "id": "4c8773d3-070a-4271-8ae4-1d18f6d5a599",
   "metadata": {},
   "outputs": [
    {
     "data": {
      "text/plain": [
       "715.2011132463057"
      ]
     },
     "execution_count": 13,
     "metadata": {},
     "output_type": "execute_result"
    }
   ],
   "source": [
    "c2=df[df['Workout_Type'] == 'Yoga']['Calories_Burned'].mean()\n",
    "d2=df[df['Workout_Type'] == 'Yoga']['Session_Duration (hours)'].mean()\n",
    "c2/d2"
   ]
  },
  {
   "cell_type": "code",
   "execution_count": 14,
   "id": "3e5a5433-036a-43cc-a579-2a3d7f90a88d",
   "metadata": {},
   "outputs": [
    {
     "data": {
      "text/plain": [
       "722.6870078740156"
      ]
     },
     "execution_count": 14,
     "metadata": {},
     "output_type": "execute_result"
    }
   ],
   "source": [
    "c3=df[df['Workout_Type'] == 'Strength']['Calories_Burned'].mean()\n",
    "d3=df[df['Workout_Type'] == 'Strength']['Session_Duration (hours)'].mean()\n",
    "c3/d3"
   ]
  },
  {
   "cell_type": "code",
   "execution_count": 15,
   "id": "e9e4b39e-9d03-4334-8ec2-e0d3fff4a73a",
   "metadata": {},
   "outputs": [
    {
     "data": {
      "text/plain": [
       "724.964643867318"
      ]
     },
     "execution_count": 15,
     "metadata": {},
     "output_type": "execute_result"
    }
   ],
   "source": [
    "c4=df[df['Workout_Type'] == 'Cardio']['Calories_Burned'].mean()\n",
    "d4=df[df['Workout_Type'] == 'Cardio']['Session_Duration (hours)'].mean()\n",
    "c4/d4"
   ]
  },
  {
   "cell_type": "markdown",
   "id": "37c6df74-5511-4ed4-957c-6d4812c0bbda",
   "metadata": {},
   "source": [
    "Observation:\n",
    "1. Cardio workout burns relatively more calories/hour followed by\n",
    "2. Strength\n",
    "3. HIIT\n",
    "4. Yoga\n",
    "   "
   ]
  },
  {
   "cell_type": "code",
   "execution_count": 17,
   "id": "425df9ad-3ec5-480f-a5dd-95b7ca590331",
   "metadata": {},
   "outputs": [
    {
     "data": {
      "text/plain": [
       "59"
      ]
     },
     "execution_count": 17,
     "metadata": {},
     "output_type": "execute_result"
    }
   ],
   "source": [
    "df['Age'].max()"
   ]
  },
  {
   "cell_type": "code",
   "execution_count": 18,
   "id": "a09fbfa2-e45a-4d0c-be63-16a645e0281b",
   "metadata": {},
   "outputs": [
    {
     "data": {
      "text/plain": [
       "18"
      ]
     },
     "execution_count": 18,
     "metadata": {},
     "output_type": "execute_result"
    }
   ],
   "source": [
    "df['Age'].min()"
   ]
  },
  {
   "cell_type": "code",
   "execution_count": 19,
   "id": "0b56eada-5df6-4519-bd19-9490c6837860",
   "metadata": {},
   "outputs": [
    {
     "data": {
      "text/html": [
       "<div>\n",
       "<style scoped>\n",
       "    .dataframe tbody tr th:only-of-type {\n",
       "        vertical-align: middle;\n",
       "    }\n",
       "\n",
       "    .dataframe tbody tr th {\n",
       "        vertical-align: top;\n",
       "    }\n",
       "\n",
       "    .dataframe thead th {\n",
       "        text-align: right;\n",
       "    }\n",
       "</style>\n",
       "<table border=\"1\" class=\"dataframe\">\n",
       "  <thead>\n",
       "    <tr style=\"text-align: right;\">\n",
       "      <th></th>\n",
       "      <th>BMI</th>\n",
       "      <th>Classification</th>\n",
       "    </tr>\n",
       "  </thead>\n",
       "  <tbody>\n",
       "    <tr>\n",
       "      <th>0</th>\n",
       "      <td>&lt;18.5</td>\n",
       "      <td>Underweight</td>\n",
       "    </tr>\n",
       "    <tr>\n",
       "      <th>1</th>\n",
       "      <td>18.5-25</td>\n",
       "      <td>Normal Weight</td>\n",
       "    </tr>\n",
       "    <tr>\n",
       "      <th>2</th>\n",
       "      <td>25-30</td>\n",
       "      <td>Overweight</td>\n",
       "    </tr>\n",
       "    <tr>\n",
       "      <th>3</th>\n",
       "      <td>&gt;30</td>\n",
       "      <td>Obese</td>\n",
       "    </tr>\n",
       "  </tbody>\n",
       "</table>\n",
       "</div>"
      ],
      "text/plain": [
       "       BMI Classification\n",
       "0    <18.5    Underweight\n",
       "1  18.5-25  Normal Weight\n",
       "2    25-30     Overweight\n",
       "3      >30          Obese"
      ]
     },
     "execution_count": 19,
     "metadata": {},
     "output_type": "execute_result"
    }
   ],
   "source": [
    "df_bmi=pd.read_excel('BMI_classification.xlsx')\n",
    "df_bmi"
   ]
  },
  {
   "cell_type": "code",
   "execution_count": 20,
   "id": "d6d0ab0b-4625-41e8-b0a6-7f809fc31a7b",
   "metadata": {},
   "outputs": [],
   "source": [
    "a=df[df['BMI'].values<18.5].BMI.size\n",
    "b=df[(df['BMI'].values < 25) & (df['BMI'].values > 18.5)].BMI.size\n",
    "c=df[(df['BMI'].values < 30) & (df['BMI'].values > 25)].BMI.size\n",
    "d=df[(df['BMI'].values >30) ].BMI.size"
   ]
  },
  {
   "cell_type": "code",
   "execution_count": 21,
   "id": "e858a11c-b68b-4ac6-b97d-5b6730093c6c",
   "metadata": {},
   "outputs": [],
   "source": [
    "bmi_class=pd.Series([a,b,c,d],index=['Underweight','Normal Weight','Over Weight','Obese'])"
   ]
  },
  {
   "cell_type": "code",
   "execution_count": 22,
   "id": "efa757c1-9444-497c-b89f-0a5aad9aca2b",
   "metadata": {},
   "outputs": [
    {
     "data": {
      "text/plain": [
       "([<matplotlib.patches.Wedge at 0x21110683d40>,\n",
       "  <matplotlib.patches.Wedge at 0x211113685c0>,\n",
       "  <matplotlib.patches.Wedge at 0x211115bbe30>,\n",
       "  <matplotlib.patches.Wedge at 0x21111608470>],\n",
       " [Text(0.9421006259932772, 0.5678436496986433, 'Underweight'),\n",
       "  Text(-0.7159444894154414, 0.8351188466773235, 'Normal Weight'),\n",
       "  Text(-0.48206646449637797, -0.9887425973467324, 'Over Weight'),\n",
       "  Text(0.895314986374761, -0.6390704774692394, 'Obese')],\n",
       " [Text(0.5138730687236056, 0.30973289983562363, '17.27%'),\n",
       "  Text(-0.3905151760447862, 0.4555193709149037, '38.03%'),\n",
       "  Text(-0.26294534427075156, -0.5393141440073085, '24.97%'),\n",
       "  Text(0.48835362893168777, -0.3485838968014033, '19.73%')])"
      ]
     },
     "execution_count": 22,
     "metadata": {},
     "output_type": "execute_result"
    },
    {
     "data": {
      "image/png": "[encoded data removed]",
      "text/plain": [
       "<Figure size 640x480 with 1 Axes>"
      ]
     },
     "metadata": {},
     "output_type": "display_data"
    }
   ],
   "source": [
    "plt.pie(bmi_class,labels=bmi_class.index,autopct='%1.2f%%')"
   ]
  },
  {
   "cell_type": "markdown",
   "id": "e80aa355-5f7e-4f21-9986-e775ec4de2a7",
   "metadata": {},
   "source": [
    "Observation:\n",
    "1. Around 370 members have normal weight\n",
    "2. 243 members are overweight\n",
    "3. 192 members are obese\n",
    "4. 168 members are underweight"
   ]
  },
  {
   "cell_type": "code",
   "execution_count": 24,
   "id": "ede6a474-3205-401a-bd16-63f8b32c9101",
   "metadata": {},
   "outputs": [
    {
     "data": {
      "text/plain": [
       "(array([197.,   0.,   0., 368.,   0.,   0., 306.,   0.,   0., 102.]),\n",
       " array([2. , 2.3, 2.6, 2.9, 3.2, 3.5, 3.8, 4.1, 4.4, 4.7, 5. ]),\n",
       " <BarContainer object of 10 artists>)"
      ]
     },
     "execution_count": 24,
     "metadata": {},
     "output_type": "execute_result"
    },
    {
     "data": {
      "image/png": "[encoded data removed]",
      "text/plain": [
       "<Figure size 640x480 with 1 Axes>"
      ]
     },
     "metadata": {},
     "output_type": "display_data"
    }
   ],
   "source": [
    "plt.hist(x='Workout_Frequency (days/week)',data=df)"
   ]
  },
  {
   "cell_type": "markdown",
   "id": "d100d0e3-7a44-4839-ab03-653f99d638ae",
   "metadata": {},
   "source": [
    "Observation:\n",
    "1. Maximum number of the people workout 3 days a week\n",
    "2. Relatively very few members workout 5 days a week"
   ]
  },
  {
   "cell_type": "code",
   "execution_count": 49,
   "id": "1e8cbb2a-d9e5-4611-a775-53435d3f9ec4",
   "metadata": {},
   "outputs": [
    {
     "data": {
      "text/plain": [
       "Gender\n",
       "Female    138\n",
       "Name: count, dtype: int64"
      ]
     },
     "execution_count": 49,
     "metadata": {},
     "output_type": "execute_result"
    }
   ],
   "source": [
    "df[df['Water_Intake (liters)'].values < 2].Gender.value_counts()"
   ]
  },
  {
   "cell_type": "markdown",
   "id": "1bbb7dc4-8566-4ead-b7e5-2a5d12650f8e",
   "metadata": {},
   "source": [
    "#Observation\n",
    "Around 138 people particularly women consume less than 2 litres of water per day which is less than the minimum amount of water intake per day"
   ]
  },
  {
   "cell_type": "code",
   "execution_count": 85,
   "id": "410c401d-09e0-4c8d-b270-35575cb0b23a",
   "metadata": {},
   "outputs": [
    {
     "data": {
      "text/plain": [
       "0.5761501254548647"
      ]
     },
     "execution_count": 85,
     "metadata": {},
     "output_type": "execute_result"
    }
   ],
   "source": [
    "df['Calories_Burned'].corr(df['Workout_Frequency (days/week)'])"
   ]
  },
  {
   "cell_type": "code",
   "execution_count": 97,
   "id": "7d0b3b26-b087-4e8b-bdb6-18266c45620d",
   "metadata": {},
   "outputs": [
    {
     "data": {
      "text/html": [
       "<div>\n",
       "<style scoped>\n",
       "    .dataframe tbody tr th:only-of-type {\n",
       "        vertical-align: middle;\n",
       "    }\n",
       "\n",
       "    .dataframe tbody tr th {\n",
       "        vertical-align: top;\n",
       "    }\n",
       "\n",
       "    .dataframe thead th {\n",
       "        text-align: right;\n",
       "    }\n",
       "</style>\n",
       "<table border=\"1\" class=\"dataframe\">\n",
       "  <thead>\n",
       "    <tr style=\"text-align: right;\">\n",
       "      <th></th>\n",
       "      <th>Calories_Burned</th>\n",
       "      <th>Fat_Percentage</th>\n",
       "    </tr>\n",
       "    <tr>\n",
       "      <th>Workout_Frequency (days/week)</th>\n",
       "      <th></th>\n",
       "      <th></th>\n",
       "    </tr>\n",
       "  </thead>\n",
       "  <tbody>\n",
       "    <tr>\n",
       "      <th>2</th>\n",
       "      <td>726.380711</td>\n",
       "      <td>27.439594</td>\n",
       "    </tr>\n",
       "    <tr>\n",
       "      <th>3</th>\n",
       "      <td>821.437500</td>\n",
       "      <td>27.586413</td>\n",
       "    </tr>\n",
       "    <tr>\n",
       "      <th>4</th>\n",
       "      <td>997.640523</td>\n",
       "      <td>23.693137</td>\n",
       "    </tr>\n",
       "    <tr>\n",
       "      <th>5</th>\n",
       "      <td>1277.568627</td>\n",
       "      <td>14.655882</td>\n",
       "    </tr>\n",
       "  </tbody>\n",
       "</table>\n",
       "</div>"
      ],
      "text/plain": [
       "                               Calories_Burned  Fat_Percentage\n",
       "Workout_Frequency (days/week)                                 \n",
       "2                                   726.380711       27.439594\n",
       "3                                   821.437500       27.586413\n",
       "4                                   997.640523       23.693137\n",
       "5                                  1277.568627       14.655882"
      ]
     },
     "execution_count": 97,
     "metadata": {},
     "output_type": "execute_result"
    }
   ],
   "source": [
    "df.groupby('Workout_Frequency (days/week)')[['Calories_Burned', 'Fat_Percentage']].mean()"
   ]
  },
  {
   "cell_type": "markdown",
   "id": "3d4735b5-b29e-420c-9356-183058e32cf2",
   "metadata": {},
   "source": [
    "Observation:\n",
    "People working out 5 days a week have minimum body fat"
   ]
  },
  {
   "cell_type": "code",
   "execution_count": null,
   "id": "d932f96d-047c-48e6-a7fd-6419d3f8a66b",
   "metadata": {},
   "outputs": [],
   "source": []
  }
 ],
 "metadata": {
  "kernelspec": {
   "display_name": "Python 3 (ipykernel)",
   "language": "python",
   "name": "python3"
  },
  "language_info": {
   "codemirror_mode": {
    "name": "ipython",
    "version": 3
   },
   "file_extension": ".py",
   "mimetype": "text/x-python",
   "name": "python",
   "nbconvert_exporter": "python",
   "pygments_lexer": "ipython3",
   "version": "3.12.4"
  }
 },
 "nbformat": 4,
 "nbformat_minor": 5
}
